{
 "cells": [
  {
   "cell_type": "code",
   "execution_count": 1,
   "id": "9f1d7463",
   "metadata": {},
   "outputs": [],
   "source": [
    "import time\n",
    "from gameworld import Animal, draw_grid"
   ]
  },
  {
   "cell_type": "code",
   "execution_count": 2,
   "id": "5bcecc4e",
   "metadata": {},
   "outputs": [],
   "source": [
    "def cats():\n",
    "    for i in range(2, 8):\n",
    "        yield Animal(row=i, col=i)"
   ]
  },
  {
   "cell_type": "code",
   "execution_count": 3,
   "id": "3da0a6c3",
   "metadata": {},
   "outputs": [],
   "source": [
    "def mice():\n",
    "\n",
    "    for i in range(7, 1, -1):\n",
    "        yield Animal(row=7, col=i)"
   ]
  },
  {
   "cell_type": "code",
   "execution_count": 4,
   "id": "7be3a167",
   "metadata": {},
   "outputs": [
    {
     "name": "stdout",
     "output_type": "stream",
     "text": [
      "\u001b[92m\n",
      "╔═════════════════════╗\n",
      "║                     ║\n",
      "║                     ║\n",
      "║    😼               ║\n",
      "║                     ║\n",
      "║                     ║\n",
      "║                     ║\n",
      "║                     ║\n",
      "║              🐭     ║\n",
      "║                     ║\n",
      "║                     ║\n",
      "╚═════════════════════╝\n",
      "\u001b[92m\n",
      "╔═════════════════════╗\n",
      "║                     ║\n",
      "║                     ║\n",
      "║                     ║\n",
      "║      😼             ║\n",
      "║                     ║\n",
      "║                     ║\n",
      "║                     ║\n",
      "║            🐭       ║\n",
      "║                     ║\n",
      "║                     ║\n",
      "╚═════════════════════╝\n",
      "\u001b[92m\n",
      "╔═════════════════════╗\n",
      "║                     ║\n",
      "║                     ║\n",
      "║                     ║\n",
      "║                     ║\n",
      "║        😼           ║\n",
      "║                     ║\n",
      "║                     ║\n",
      "║          🐭         ║\n",
      "║                     ║\n",
      "║                     ║\n",
      "╚═════════════════════╝\n",
      "\u001b[92m\n",
      "╔═════════════════════╗\n",
      "║                     ║\n",
      "║                     ║\n",
      "║                     ║\n",
      "║                     ║\n",
      "║                     ║\n",
      "║          😼         ║\n",
      "║                     ║\n",
      "║        🐭           ║\n",
      "║                     ║\n",
      "║                     ║\n",
      "╚═════════════════════╝\n",
      "\u001b[92m\n",
      "╔═════════════════════╗\n",
      "║                     ║\n",
      "║                     ║\n",
      "║                     ║\n",
      "║                     ║\n",
      "║                     ║\n",
      "║                     ║\n",
      "║            😼       ║\n",
      "║      🐭             ║\n",
      "║                     ║\n",
      "║                     ║\n",
      "╚═════════════════════╝\n",
      "\u001b[92m\n",
      "╔═════════════════════╗\n",
      "║                     ║\n",
      "║                     ║\n",
      "║                     ║\n",
      "║                     ║\n",
      "║                     ║\n",
      "║                     ║\n",
      "║                     ║\n",
      "║    🐭        😼     ║\n",
      "║                     ║\n",
      "║                     ║\n",
      "╚═════════════════════╝\n"
     ]
    }
   ],
   "source": [
    "for cat, mouse in zip(cats(), mice()):\n",
    "    draw_grid(cat, mouse)\n",
    "    time.sleep(.4)"
   ]
  },
  {
   "cell_type": "code",
   "execution_count": null,
   "id": "ccdb3e44",
   "metadata": {},
   "outputs": [],
   "source": []
  }
 ],
 "metadata": {
  "kernelspec": {
   "display_name": "Python 3",
   "language": "python",
   "name": "python3"
  },
  "language_info": {
   "codemirror_mode": {
    "name": "ipython",
    "version": 3
   },
   "file_extension": ".py",
   "mimetype": "text/x-python",
   "name": "python",
   "nbconvert_exporter": "python",
   "pygments_lexer": "ipython3",
   "version": "3.8.8"
  }
 },
 "nbformat": 4,
 "nbformat_minor": 5
}
