{
 "cells": [
  {
   "cell_type": "markdown",
   "id": "ab11eb2c",
   "metadata": {},
   "source": [
    "## Итерируемое бинарное дерево"
   ]
  },
  {
   "cell_type": "code",
   "execution_count": 3,
   "id": "b4924185",
   "metadata": {},
   "outputs": [],
   "source": [
    "class Node:\n",
    "    def __init__(self, value, right=None, left=None):\n",
    "        self.value = value\n",
    "        self.right = right\n",
    "        self.left = left"
   ]
  },
  {
   "cell_type": "code",
   "execution_count": 19,
   "id": "f1f60f04",
   "metadata": {},
   "outputs": [],
   "source": [
    "class BinTree:\n",
    "    def __init__(self):\n",
    "        self.root = None\n",
    "    \n",
    "    def __iter__(self):\n",
    "        self.__current_idx = 0\n",
    "        self.tree_order = []\n",
    "        self.round_of()\n",
    "        return self\n",
    "    \n",
    "    def __next__(self):\n",
    "        if self.__current_idx < len(self.tree_order):\n",
    "            idx = self.tree_order[self.__current_idx].value\n",
    "            self.__current_idx += 1\n",
    "            return idx\n",
    "        else:\n",
    "            raise StopIteration(\"Index is out of tree\")\n",
    "    \n",
    "    def round_of(self):\n",
    "        self.tree_order = []\n",
    "        if self.root is not None:\n",
    "            self.tree_order.append(self.root)\n",
    "            self._round_of(self.root)\n",
    "        return self.tree_order\n",
    "            \n",
    "    def _round_of(self, node):\n",
    "        if node.left is not None:\n",
    "            self.tree_order.append(node.left)\n",
    "            self._round_of(node.left)\n",
    "        if node.right is not None:\n",
    "            self.tree_order.append(node.right)\n",
    "            self._round_of(node.right)\n",
    "    \n",
    "    def __str__(self):\n",
    "        return self.printTree()\n",
    "    \n",
    "    def get_root(self):\n",
    "        return self.root\n",
    "\n",
    "    def add(self, value):\n",
    "        if self.root is None:\n",
    "            self.root = Node(value)\n",
    "        else:\n",
    "            self._add(value, self.root)\n",
    "\n",
    "    def _add(self, value, node):\n",
    "        if value < node.value:\n",
    "            if node.left is not None:\n",
    "                self._add(value, node.left)\n",
    "            else:\n",
    "                node.left = Node(value)\n",
    "        else:\n",
    "            if node.right is not None:\n",
    "                self._add(value, node.right)\n",
    "            else:\n",
    "                node.right = Node(value)\n",
    "\n",
    "    def find(self, value):\n",
    "        if self.root is not None:\n",
    "            return self._find(value, self.root)\n",
    "        else:\n",
    "            return None\n",
    "\n",
    "    def _find(self, value, node):\n",
    "        if value == node.value:\n",
    "            return node\n",
    "        elif (value < node.value and node.left is not None):\n",
    "            return self._find(value, node.left)\n",
    "        elif (value > node.value and node.right is not None):\n",
    "            return self._find(value, node.right)\n",
    "\n",
    "    def printTree(self):\n",
    "        if self.root is not None:\n",
    "            self._printTree(self.root)\n",
    "\n",
    "    def _printTree(self, node):\n",
    "        if node is not None:\n",
    "            self._printTree(node.left)\n",
    "            print(str(node.value), end=' ')\n",
    "            self._printTree(node.right)"
   ]
  },
  {
   "cell_type": "code",
   "execution_count": 20,
   "id": "d569cd29",
   "metadata": {},
   "outputs": [
    {
     "name": "stdout",
     "output_type": "stream",
     "text": [
      "0 2 3 4 8 "
     ]
    }
   ],
   "source": [
    "tree = BinTree()\n",
    "tree.add(3)\n",
    "tree.add(4)\n",
    "tree.add(0)\n",
    "tree.add(8)\n",
    "tree.add(2)\n",
    "tree.printTree()"
   ]
  },
  {
   "cell_type": "code",
   "execution_count": 22,
   "id": "e89a6b48",
   "metadata": {},
   "outputs": [],
   "source": [
    "#     3\n",
    "#   /   \\\n",
    "#  0     4\n",
    "#   \\     \\\n",
    "#    2     8"
   ]
  },
  {
   "cell_type": "code",
   "execution_count": 21,
   "id": "acb22a76",
   "metadata": {},
   "outputs": [
    {
     "name": "stdout",
     "output_type": "stream",
     "text": [
      "3 0 2 4 8 "
     ]
    }
   ],
   "source": [
    "it_tree = iter(tree)\n",
    "while True:\n",
    "    try:\n",
    "        print(next(it_tree), end=' ')\n",
    "    except StopIteration:\n",
    "        break"
   ]
  },
  {
   "cell_type": "code",
   "execution_count": null,
   "id": "43cf2162",
   "metadata": {},
   "outputs": [],
   "source": []
  }
 ],
 "metadata": {
  "kernelspec": {
   "display_name": "Python 3",
   "language": "python",
   "name": "python3"
  },
  "language_info": {
   "codemirror_mode": {
    "name": "ipython",
    "version": 3
   },
   "file_extension": ".py",
   "mimetype": "text/x-python",
   "name": "python",
   "nbconvert_exporter": "python",
   "pygments_lexer": "ipython3",
   "version": "3.8.8"
  }
 },
 "nbformat": 4,
 "nbformat_minor": 5
}
