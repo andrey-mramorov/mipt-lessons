{
 "cells": [
  {
   "cell_type": "code",
   "execution_count": 105,
   "id": "44583b59",
   "metadata": {},
   "outputs": [],
   "source": [
    "import os, re"
   ]
  },
  {
   "cell_type": "markdown",
   "id": "11bbc773",
   "metadata": {},
   "source": [
    "Класс TextLoader, который принимает в инициализаторе адрес папки. Метод __\\_\\_len____ возвращает количество текстов в папке. метод __\\_\\_getitem____ загружает текст, приводит его к нижнему регистру и убирает знаки препинания, при итерировании возвращаются нормализованные тексты."
   ]
  },
  {
   "cell_type": "code",
   "execution_count": 121,
   "id": "2d86ae1e",
   "metadata": {},
   "outputs": [],
   "source": [
    "class TextLoader:\n",
    "    def __init__(self, folder):\n",
    "        self.folder = folder\n",
    "        self.files = os.listdir(self.folder)\n",
    "    \n",
    "    def __iter__(self):\n",
    "        self.__current = 0\n",
    "        return self\n",
    "        \n",
    "    def __next__(self):\n",
    "        curr = self.__getitem__(self.files[self.__current])\n",
    "        self.__current += 1\n",
    "        return curr\n",
    "    \n",
    "    def __len__(self):\n",
    "        return len(self.files)\n",
    "    \n",
    "    def __getitem__(self, item):\n",
    "        with open(self.folder + '\\\\' + item, 'r', encoding='utf8') as source, open(self.folder + '\\\\' + item + '_normalize', 'w', encoding='utf8') as output:\n",
    "            while True:\n",
    "                s = source.readline()\n",
    "                if s != '':\n",
    "                    print(s, end='')\n",
    "                else:\n",
    "                    break\n",
    "                output.write(re.sub(r'[^\\w\\s]','', s.lower()))\n",
    "        return item + '_normalize'"
   ]
  },
  {
   "cell_type": "code",
   "execution_count": 117,
   "id": "3352927d",
   "metadata": {},
   "outputs": [],
   "source": [
    "current_dir = os.getcwd()\n",
    "text_dir = current_dir + '\\\\sample\\\\sample'"
   ]
  },
  {
   "cell_type": "code",
   "execution_count": null,
   "id": "f1083814",
   "metadata": {},
   "outputs": [],
   "source": [
    "TL = TextLoader(text_dir)\n",
    "TL = iter(TL)\n",
    "next(TL)\n",
    "next(TL)\n",
    "next(TL)"
   ]
  },
  {
   "cell_type": "code",
   "execution_count": null,
   "id": "229865bd",
   "metadata": {},
   "outputs": [],
   "source": []
  }
 ],
 "metadata": {
  "kernelspec": {
   "display_name": "Python 3",
   "language": "python",
   "name": "python3"
  },
  "language_info": {
   "codemirror_mode": {
    "name": "ipython",
    "version": 3
   },
   "file_extension": ".py",
   "mimetype": "text/x-python",
   "name": "python",
   "nbconvert_exporter": "python",
   "pygments_lexer": "ipython3",
   "version": "3.8.8"
  }
 },
 "nbformat": 4,
 "nbformat_minor": 5
}
