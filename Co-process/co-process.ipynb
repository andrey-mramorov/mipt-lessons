{
 "cells": [
  {
   "cell_type": "code",
   "execution_count": 41,
   "id": "70268372",
   "metadata": {},
   "outputs": [],
   "source": [
    "class PrintNumber(Exception):\n",
    "    pass\n",
    "\n",
    "class PrintAverage(Exception):\n",
    "    pass\n",
    "\n",
    "class PrintVariance(Exception):\n",
    "    pass\n",
    "\n",
    "def my_coroutine():\n",
    "    print(\"Starting coroutine\")\n",
    "    s = 0\n",
    "    s_delta = 0\n",
    "    count = 0\n",
    "    try:\n",
    "        while True:\n",
    "            try:\n",
    "                x = yield\n",
    "                count += 1\n",
    "                s += x\n",
    "                avg = s / count\n",
    "                s_delta += (x - avg)**2\n",
    "                var = s_delta / count\n",
    "            except PrintVariance:\n",
    "                print(var)\n",
    "            except PrintAverage:\n",
    "                print(avg)\n",
    "            except PrintNumber:\n",
    "                print(count)\n",
    "    finally:\n",
    "        print(\"Stop coroutine\")"
   ]
  },
  {
   "cell_type": "code",
   "execution_count": 56,
   "id": "9081b4a3",
   "metadata": {},
   "outputs": [
    {
     "name": "stdout",
     "output_type": "stream",
     "text": [
      "Starting coroutine\n"
     ]
    }
   ],
   "source": [
    "coroutine = my_coroutine()\n",
    "next(coroutine)\n",
    "coroutine.send(10)"
   ]
  },
  {
   "cell_type": "code",
   "execution_count": 57,
   "id": "0a9b2919",
   "metadata": {},
   "outputs": [
    {
     "name": "stdout",
     "output_type": "stream",
     "text": [
      "1\n"
     ]
    }
   ],
   "source": [
    "coroutine.throw(PrintNumber)"
   ]
  },
  {
   "cell_type": "code",
   "execution_count": 58,
   "id": "f73289c5",
   "metadata": {},
   "outputs": [],
   "source": [
    "coroutine.send(2)"
   ]
  },
  {
   "cell_type": "code",
   "execution_count": 59,
   "id": "791ad950",
   "metadata": {},
   "outputs": [
    {
     "name": "stdout",
     "output_type": "stream",
     "text": [
      "6.0\n"
     ]
    }
   ],
   "source": [
    "coroutine.throw(PrintAverage)"
   ]
  },
  {
   "cell_type": "code",
   "execution_count": null,
   "id": "18714caa",
   "metadata": {},
   "outputs": [],
   "source": []
  }
 ],
 "metadata": {
  "kernelspec": {
   "display_name": "Python 3",
   "language": "python",
   "name": "python3"
  },
  "language_info": {
   "codemirror_mode": {
    "name": "ipython",
    "version": 3
   },
   "file_extension": ".py",
   "mimetype": "text/x-python",
   "name": "python",
   "nbconvert_exporter": "python",
   "pygments_lexer": "ipython3",
   "version": "3.8.8"
  }
 },
 "nbformat": 4,
 "nbformat_minor": 5
}
