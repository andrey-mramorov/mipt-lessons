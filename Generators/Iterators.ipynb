{
 "cells": [
  {
   "cell_type": "markdown",
   "id": "91b15788",
   "metadata": {},
   "source": [
    "### Task 2"
   ]
  },
  {
   "cell_type": "code",
   "execution_count": 8,
   "id": "c7e31ae2",
   "metadata": {},
   "outputs": [],
   "source": [
    "def fibb(n):\n",
    "    _prev, _current = 0, 1\n",
    "    for _ in range(n):\n",
    "        yield _current\n",
    "        _next = _prev + _current\n",
    "        _prev = _current\n",
    "        _current = _next"
   ]
  },
  {
   "cell_type": "code",
   "execution_count": 9,
   "id": "da3b8816",
   "metadata": {},
   "outputs": [
    {
     "name": "stdout",
     "output_type": "stream",
     "text": [
      "[1, 1, 2, 3, 5, 8, 13, 21, 34, 55]\n"
     ]
    }
   ],
   "source": [
    "L = []\n",
    "for i in fibb(10):\n",
    "    L.append(i)\n",
    "print(L)"
   ]
  },
  {
   "cell_type": "markdown",
   "id": "642592a4",
   "metadata": {},
   "source": [
    "### Task 3"
   ]
  }
 ],
 "metadata": {
  "kernelspec": {
   "display_name": "Python 3",
   "language": "python",
   "name": "python3"
  },
  "language_info": {
   "codemirror_mode": {
    "name": "ipython",
    "version": 3
   },
   "file_extension": ".py",
   "mimetype": "text/x-python",
   "name": "python",
   "nbconvert_exporter": "python",
   "pygments_lexer": "ipython3",
   "version": "3.8.8"
  }
 },
 "nbformat": 4,
 "nbformat_minor": 5
}
