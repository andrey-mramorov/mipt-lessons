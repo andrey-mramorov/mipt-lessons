{
 "cells": [
  {
   "cell_type": "markdown",
   "id": "0d6b52c9",
   "metadata": {},
   "source": [
    "### Task 3"
   ]
  },
  {
   "cell_type": "code",
   "execution_count": 7,
   "id": "1fd575a2",
   "metadata": {},
   "outputs": [],
   "source": [
    "#грубая реализация\n",
    "def my_zip(*iterables):\n",
    "    result = []\n",
    "    tup = []\n",
    "    for iterable in iterables:\n",
    "        iterable = iter(iterable)\n",
    "        while True:\n",
    "            try:\n",
    "                tup.append(next(iterable))\n",
    "            except StopIteration:\n",
    "                break\n",
    "        result.append(tuple(tup))\n",
    "    return result"
   ]
  },
  {
   "cell_type": "code",
   "execution_count": 37,
   "id": "3ce647e3",
   "metadata": {},
   "outputs": [],
   "source": [
    "def my_zip(*iterables):\n",
    "    res = [[] for i in range(len(iterables))]\n",
    "    for i in range(len(res)):\n",
    "        iterable = iter(iterables[i])\n",
    "        while True:\n",
    "            try:\n",
    "                res[i].append()"
   ]
  },
  {
   "cell_type": "code",
   "execution_count": 38,
   "id": "02313db6",
   "metadata": {},
   "outputs": [
    {
     "name": "stdout",
     "output_type": "stream",
     "text": [
      "[[], [], []]\n"
     ]
    }
   ],
   "source": [
    "my_zip([1, 2, 3], [1, 2, 3], (4, 5, 6))"
   ]
  },
  {
   "cell_type": "code",
   "execution_count": null,
   "id": "270bb9cc",
   "metadata": {},
   "outputs": [],
   "source": []
  }
 ],
 "metadata": {
  "kernelspec": {
   "display_name": "Python 3 (ipykernel)",
   "language": "python",
   "name": "python3"
  },
  "language_info": {
   "codemirror_mode": {
    "name": "ipython",
    "version": 3
   },
   "file_extension": ".py",
   "mimetype": "text/x-python",
   "name": "python",
   "nbconvert_exporter": "python",
   "pygments_lexer": "ipython3",
   "version": "3.9.7"
  }
 },
 "nbformat": 4,
 "nbformat_minor": 5
}
