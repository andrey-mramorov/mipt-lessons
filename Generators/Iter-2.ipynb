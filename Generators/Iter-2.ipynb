{
 "cells": [
  {
   "cell_type": "code",
   "execution_count": 1,
   "id": "b4ed12eb",
   "metadata": {},
   "outputs": [],
   "source": [
    "from itertools import *"
   ]
  },
  {
   "cell_type": "markdown",
   "id": "b47610e5",
   "metadata": {},
   "source": [
    "### 1"
   ]
  },
  {
   "cell_type": "code",
   "execution_count": 10,
   "id": "a1d85cfb",
   "metadata": {},
   "outputs": [],
   "source": [
    "def get_cartesian_product(a, b):\n",
    "    res = []\n",
    "    prd = iter(product(a, b))\n",
    "    while True:\n",
    "        try:\n",
    "            res.append(next(prd))\n",
    "        except StopIteration:\n",
    "            break\n",
    "    return res\n",
    "    \n",
    "    #raise RuntimeError(\"Not implemented\")"
   ]
  },
  {
   "cell_type": "code",
   "execution_count": 11,
   "id": "7f8fd67d",
   "metadata": {},
   "outputs": [
    {
     "name": "stdout",
     "output_type": "stream",
     "text": [
      "[('a', 'lol'), ('a', 'kek'), ('a', 'beb'), ('b', 'lol'), ('b', 'kek'), ('b', 'beb'), ('c', 'lol'), ('c', 'kek'), ('c', 'beb')]\n"
     ]
    }
   ],
   "source": [
    "print(get_cartesian_product(['a', 'b', 'c'], ['lol', 'kek', 'beb']))"
   ]
  },
  {
   "cell_type": "code",
   "execution_count": 17,
   "id": "4037e32c",
   "metadata": {},
   "outputs": [
    {
     "data": {
      "text/plain": [
       "[(1, 3), (1, 4), (2, 3), (2, 4)]"
      ]
     },
     "execution_count": 17,
     "metadata": {},
     "output_type": "execute_result"
    }
   ],
   "source": [
    "get_cartesian_product([1, 2], [3, 4])"
   ]
  },
  {
   "cell_type": "markdown",
   "id": "105e4127",
   "metadata": {},
   "source": [
    "### 2"
   ]
  },
  {
   "cell_type": "code",
   "execution_count": 20,
   "id": "b1f7099f",
   "metadata": {},
   "outputs": [],
   "source": [
    "def get_permutations(s, n):\n",
    "    res = []\n",
    "    prt = iter(permutations(s, n))\n",
    "    while True:\n",
    "        try:\n",
    "            res.append(next(prt))\n",
    "        except StopIteration:\n",
    "            break\n",
    "    for i in range(len(res)):\n",
    "        s = ''\n",
    "        for j in range(len(res[i])):\n",
    "            s += res[i][j]\n",
    "        res[i] = s\n",
    "    return sorted(res)\n",
    "    \n",
    "    #raise RuntimeError(\"Not implemented\")\n"
   ]
  },
  {
   "cell_type": "code",
   "execution_count": 21,
   "id": "ac7443c5",
   "metadata": {},
   "outputs": [
    {
     "data": {
      "text/plain": [
       "['ac', 'at', 'ca', 'ct', 'ta', 'tc']"
      ]
     },
     "execution_count": 21,
     "metadata": {},
     "output_type": "execute_result"
    }
   ],
   "source": [
    "get_permutations(\"cat\", 2)"
   ]
  },
  {
   "cell_type": "code",
   "execution_count": null,
   "id": "4cf6b775",
   "metadata": {},
   "outputs": [],
   "source": []
  }
 ],
 "metadata": {
  "kernelspec": {
   "display_name": "Python 3 (ipykernel)",
   "language": "python",
   "name": "python3"
  },
  "language_info": {
   "codemirror_mode": {
    "name": "ipython",
    "version": 3
   },
   "file_extension": ".py",
   "mimetype": "text/x-python",
   "name": "python",
   "nbconvert_exporter": "python",
   "pygments_lexer": "ipython3",
   "version": "3.9.7"
  }
 },
 "nbformat": 4,
 "nbformat_minor": 5
}
